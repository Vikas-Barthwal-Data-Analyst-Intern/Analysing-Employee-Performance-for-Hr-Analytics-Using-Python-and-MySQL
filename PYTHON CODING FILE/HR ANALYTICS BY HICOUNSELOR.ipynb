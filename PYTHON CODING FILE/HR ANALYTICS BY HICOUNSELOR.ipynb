{
 "cells": [
  {
   "cell_type": "code",
   "execution_count": 11,
   "id": "e0c2d4f7",
   "metadata": {},
   "outputs": [],
   "source": [
    "import pandas as pd\n",
    "import sqlite3\n",
    "import warnings\n",
    "warnings.filterwarnings(\"ignore\")"
   ]
  },
  {
   "cell_type": "code",
   "execution_count": 12,
   "id": "202e9f37",
   "metadata": {},
   "outputs": [],
   "source": [
    "# First step is to get dataframe by calling read_csv function of pandas\n",
    "data=pd.read_csv('Uncleaned_employees_final_dataset.csv')"
   ]
  },
  {
   "cell_type": "code",
   "execution_count": 13,
   "id": "c504d157",
   "metadata": {},
   "outputs": [
    {
     "data": {
      "text/plain": [
       "employee_id                 0\n",
       "department                  0\n",
       "region                      0\n",
       "education                 771\n",
       "gender                      0\n",
       "recruitment_channel         0\n",
       "no_of_trainings             0\n",
       "age                         0\n",
       "previous_year_rating     1363\n",
       "length_of_service           0\n",
       "KPIs_met_more_than_80       0\n",
       "awards_won                  0\n",
       "avg_training_score          0\n",
       "dtype: int64"
      ]
     },
     "execution_count": 13,
     "metadata": {},
     "output_type": "execute_result"
    }
   ],
   "source": [
    "# Now we should check null values in our dataframe\n",
    "data.isnull().sum()"
   ]
  },
  {
   "cell_type": "code",
   "execution_count": 14,
   "id": "be598dc2",
   "metadata": {},
   "outputs": [],
   "source": [
    "# As we have null values in 2 columns , So we will remove those records from our dataframe\n",
    "data.dropna(inplace=True)"
   ]
  },
  {
   "cell_type": "code",
   "execution_count": 15,
   "id": "e3f9c8ef",
   "metadata": {},
   "outputs": [],
   "source": [
    "# Now we should remove duplicate records from our dataframe\n",
    "data.drop_duplicates(keep=\"first\",inplace=True)"
   ]
  },
  {
   "cell_type": "code",
   "execution_count": 16,
   "id": "debcb0e6",
   "metadata": {},
   "outputs": [
    {
     "data": {
      "text/plain": [
       "employee_id                int64\n",
       "department                object\n",
       "region                    object\n",
       "education                 object\n",
       "gender                    object\n",
       "recruitment_channel       object\n",
       "no_of_trainings            int64\n",
       "age                        int64\n",
       "previous_year_rating     float64\n",
       "length_of_service          int64\n",
       "KPIs_met_more_than_80      int64\n",
       "awards_won                 int64\n",
       "avg_training_score         int64\n",
       "dtype: object"
      ]
     },
     "execution_count": 16,
     "metadata": {},
     "output_type": "execute_result"
    }
   ],
   "source": [
    "# Now we will check if each column has relevant data type or not\n",
    "data.dtypes"
   ]
  },
  {
   "cell_type": "code",
   "execution_count": 17,
   "id": "ef30f015",
   "metadata": {},
   "outputs": [],
   "source": [
    "# Here we can see that one column called previous_year_rating is in floating data type , while it should be integer.\n",
    "# So we will convert this floating data type into integer64."
   ]
  },
  {
   "cell_type": "code",
   "execution_count": 18,
   "id": "e4bf1b38",
   "metadata": {},
   "outputs": [],
   "source": [
    "data[\"previous_year_rating\"]=data[\"previous_year_rating\"].astype(\"int64\")"
   ]
  },
  {
   "cell_type": "code",
   "execution_count": 19,
   "id": "dab82059",
   "metadata": {},
   "outputs": [],
   "source": [
    "# Now we will save this cleaned dataframe as \"Cleaned_employees_final_dataset.csv\" in a csv file format."
   ]
  },
  {
   "cell_type": "code",
   "execution_count": 20,
   "id": "3ffc1436",
   "metadata": {},
   "outputs": [],
   "source": [
    "data.to_csv(\"Cleaned_employees_final_dataset.csv\",index=False)"
   ]
  },
  {
   "cell_type": "code",
   "execution_count": 21,
   "id": "7fdb54c2",
   "metadata": {},
   "outputs": [
    {
     "data": {
      "text/plain": [
       "15422"
      ]
     },
     "execution_count": 21,
     "metadata": {},
     "output_type": "execute_result"
    }
   ],
   "source": [
    "# Now we will load our cleaned csv dataset into a new dataframe.\n",
    "\n",
    "data1 = pd.read_csv(\"Cleaned_employees_final_dataset.csv\")\n",
    "\n",
    "# We will Create a SQLite in-memory database and establish a connection\n",
    "conn = sqlite3.connect(':memory:')\n",
    "\n",
    "# Store the DataFrame in a SQL table\n",
    "data1.to_sql('employee', conn, index=False)"
   ]
  },
  {
   "cell_type": "markdown",
   "id": "adff290b",
   "metadata": {},
   "source": [
    "# Task 1\n",
    "Find the average age of employees in each department and gender group.\n",
    "(Round average age up to two decimal places if needed)."
   ]
  },
  {
   "cell_type": "code",
   "execution_count": 54,
   "id": "f68fbb6b",
   "metadata": {},
   "outputs": [],
   "source": [
    "query = \"select department,gender,round(avg(age),2) as average_age from employee group by department,gender\"\n",
    "result = pd.read_sql_query(query, conn)"
   ]
  },
  {
   "cell_type": "code",
   "execution_count": 55,
   "id": "ff53a2df",
   "metadata": {},
   "outputs": [
    {
     "name": "stdout",
     "output_type": "stream",
     "text": [
      "           department gender  average_age\n",
      "0           Analytics      f        29.88\n",
      "1           Analytics      m        33.54\n",
      "2             Finance      f        33.33\n",
      "3             Finance      m        33.15\n",
      "4                  HR      f        35.57\n",
      "5                  HR      m        34.98\n",
      "6               Legal      f        33.72\n",
      "7               Legal      m        34.69\n",
      "8          Operations      f        36.37\n",
      "9          Operations      m        36.88\n",
      "10        Procurement      f        36.86\n",
      "11        Procurement      m        36.73\n",
      "12                R&D      f        31.69\n",
      "13                R&D      m        33.40\n",
      "14  Sales & Marketing      f        34.90\n",
      "15  Sales & Marketing      m        35.90\n",
      "16         Technology      f        35.76\n",
      "17         Technology      m        35.87\n"
     ]
    }
   ],
   "source": [
    "print(result)"
   ]
  },
  {
   "cell_type": "markdown",
   "id": "a06407fa",
   "metadata": {},
   "source": [
    "# Task 2\n",
    "List the top 3 departments with the highest average training scores.\n",
    "(Round average age up to two decimal places if needed)."
   ]
  },
  {
   "cell_type": "code",
   "execution_count": 56,
   "id": "bb52c454",
   "metadata": {},
   "outputs": [],
   "source": [
    "query = \"select department,round(avg(avg_training_score),2)as avg_training_score from employee group by department order by avg_training_score desc limit 3\"\n",
    "result = pd.read_sql_query(query, conn)"
   ]
  },
  {
   "cell_type": "code",
   "execution_count": 57,
   "id": "61f540a3",
   "metadata": {},
   "outputs": [
    {
     "name": "stdout",
     "output_type": "stream",
     "text": [
      "   department  avg_training_score\n",
      "0   Analytics               84.59\n",
      "1         R&D               84.42\n",
      "2  Technology               79.81\n"
     ]
    }
   ],
   "source": [
    "print(result)"
   ]
  },
  {
   "cell_type": "markdown",
   "id": "d3c93e88",
   "metadata": {},
   "source": [
    "# Task 3\n",
    "Find the percentage of employees who have won awards in each region.\n",
    "(Round average age up to two decimal places if needed)."
   ]
  },
  {
   "cell_type": "code",
   "execution_count": 60,
   "id": "0c077293",
   "metadata": {},
   "outputs": [],
   "source": [
    "query = \"WITH CTE(REGION,TOTAL) AS (SELECT REGION,COUNT(*) FROM employee WHERE AWARDS_WON=1 GROUP BY REGION) SELECT REGION,ROUND(TOTAL*100/(SELECT COUNT(*) FROM employee WHERE AWARDS_WON=1),2) AS AWARDS_PERCENTAGE FROM CTE\"\n",
    "result = pd.read_sql_query(query, conn)"
   ]
  },
  {
   "cell_type": "code",
   "execution_count": 61,
   "id": "52a04229",
   "metadata": {},
   "outputs": [
    {
     "name": "stdout",
     "output_type": "stream",
     "text": [
      "       REGION  AWARDS_PERCENTAGE\n",
      "0   region_10                2.0\n",
      "1   region_11                1.0\n",
      "2   region_12                0.0\n",
      "3   region_13                4.0\n",
      "4   region_14                1.0\n",
      "5   region_15                6.0\n",
      "6   region_16                1.0\n",
      "7   region_17                3.0\n",
      "8   region_19                0.0\n",
      "9    region_2               20.0\n",
      "10  region_20                1.0\n",
      "11  region_21                0.0\n",
      "12  region_22                9.0\n",
      "13  region_23                2.0\n",
      "14  region_24                0.0\n",
      "15  region_25                1.0\n",
      "16  region_26                2.0\n",
      "17  region_27                5.0\n",
      "18  region_28                1.0\n",
      "19  region_29                2.0\n",
      "20   region_3                1.0\n",
      "21  region_30                0.0\n",
      "22  region_31                2.0\n",
      "23  region_32                1.0\n",
      "24  region_33                0.0\n",
      "25  region_34                0.0\n",
      "26   region_4                4.0\n",
      "27   region_5                1.0\n",
      "28   region_6                2.0\n",
      "29   region_7               10.0\n",
      "30   region_8                1.0\n",
      "31   region_9                1.0\n"
     ]
    }
   ],
   "source": [
    "print(result)"
   ]
  },
  {
   "cell_type": "markdown",
   "id": "91184ff4",
   "metadata": {},
   "source": [
    "# Task 4\n",
    "Show the number of employees who have met more than 80% of KPIs for each recruitment channel and education level."
   ]
  },
  {
   "cell_type": "code",
   "execution_count": 66,
   "id": "dfcbb359",
   "metadata": {},
   "outputs": [],
   "source": [
    "query = \"select recruitment_channel,education,count(employee_id)AS total_employee from employee where `KPIs_met_more_than_80` =1 group by recruitment_channel,education\"\n",
    "\n",
    "result = pd.read_sql_query(query, conn)"
   ]
  },
  {
   "cell_type": "code",
   "execution_count": 67,
   "id": "ed7e38f5",
   "metadata": {},
   "outputs": [
    {
     "name": "stdout",
     "output_type": "stream",
     "text": [
      "  recruitment_channel        education  total_employee\n",
      "0               other        Bachelors            2044\n",
      "1               other  Below Secondary              38\n",
      "2               other  Masters & above            1003\n",
      "3            referred        Bachelors             125\n",
      "4            referred  Below Secondary               2\n",
      "5            referred  Masters & above              33\n",
      "6            sourcing        Bachelors            1574\n",
      "7            sourcing  Below Secondary              34\n",
      "8            sourcing  Masters & above             723\n"
     ]
    }
   ],
   "source": [
    "print(result)"
   ]
  },
  {
   "cell_type": "markdown",
   "id": "0520e58d",
   "metadata": {},
   "source": [
    "# Task 5\n",
    "Find the average length of service for employees in each department, considering only employees with previous year ratings greater than or equal to 4.\n",
    "(Round average age up to two decimal places if needed)."
   ]
  },
  {
   "cell_type": "code",
   "execution_count": 68,
   "id": "9f4a7d03",
   "metadata": {},
   "outputs": [],
   "source": [
    "query = \"select department,round(avg(length_of_service),2)as average_length_of_service from employee where previous_year_rating>= 4 group by department\"\n",
    "\n",
    "result = pd.read_sql_query(query, conn)"
   ]
  },
  {
   "cell_type": "code",
   "execution_count": 69,
   "id": "fba21c21",
   "metadata": {},
   "outputs": [
    {
     "name": "stdout",
     "output_type": "stream",
     "text": [
      "          department  average_length_of_service\n",
      "0          Analytics                       5.53\n",
      "1            Finance                       5.70\n",
      "2                 HR                       6.07\n",
      "3              Legal                       4.79\n",
      "4         Operations                       6.83\n",
      "5        Procurement                       6.63\n",
      "6                R&D                       4.86\n",
      "7  Sales & Marketing                       6.33\n",
      "8         Technology                       6.31\n"
     ]
    }
   ],
   "source": [
    "print(result)"
   ]
  },
  {
   "cell_type": "markdown",
   "id": "6cb4a2d0",
   "metadata": {},
   "source": [
    "# Task 6\n",
    "List the top 5 regions with the highest average previous year ratings.\n",
    "(Round average age up to two decimal places if needed)."
   ]
  },
  {
   "cell_type": "code",
   "execution_count": 70,
   "id": "19382b0d",
   "metadata": {},
   "outputs": [],
   "source": [
    "query = \"select region,round(avg(previous_year_rating),2) average_previous_year_rating from employee group by region order by average_previous_year_rating desc limit 5\"\n",
    "\n",
    "result = pd.read_sql_query(query, conn)"
   ]
  },
  {
   "cell_type": "code",
   "execution_count": 71,
   "id": "a529a253",
   "metadata": {},
   "outputs": [
    {
     "name": "stdout",
     "output_type": "stream",
     "text": [
      "      region  average_previous_year_rating\n",
      "0  region_25                          3.58\n",
      "1   region_4                          3.53\n",
      "2   region_8                          3.50\n",
      "3  region_28                          3.49\n",
      "4  region_23                          3.47\n"
     ]
    }
   ],
   "source": [
    "print(result)"
   ]
  },
  {
   "cell_type": "markdown",
   "id": "66371fa3",
   "metadata": {},
   "source": [
    "# Task 7\n",
    "List the departments with more than 100 employees having a length of service greater than 5 years."
   ]
  },
  {
   "cell_type": "code",
   "execution_count": 72,
   "id": "985dcbd5",
   "metadata": {},
   "outputs": [],
   "source": [
    "query = \"select department,count(*)as total from employee where length_of_service>5 group by department having total>100\"\n",
    "\n",
    "result = pd.read_sql_query(query, conn)"
   ]
  },
  {
   "cell_type": "code",
   "execution_count": 73,
   "id": "66d575e7",
   "metadata": {},
   "outputs": [
    {
     "name": "stdout",
     "output_type": "stream",
     "text": [
      "          department  total\n",
      "0          Analytics    591\n",
      "1            Finance    300\n",
      "2                 HR    332\n",
      "3         Operations   1720\n",
      "4        Procurement   1023\n",
      "5                R&D    115\n",
      "6  Sales & Marketing   2204\n",
      "7         Technology    896\n"
     ]
    }
   ],
   "source": [
    "print(result)"
   ]
  },
  {
   "cell_type": "markdown",
   "id": "4c571e7b",
   "metadata": {},
   "source": [
    "# Task 8\n",
    "Show the average length of service for employees who have attended more than 3 trainings, grouped by department and gender.\n",
    "(Round average age up to two decimal places if needed)."
   ]
  },
  {
   "cell_type": "code",
   "execution_count": 74,
   "id": "0178c59b",
   "metadata": {},
   "outputs": [],
   "source": [
    "query = \"select department,gender,round(avg(length_of_service),2)as average_length_of_service from employee where no_of_trainings>3 group by department,gender\"\n",
    "\n",
    "result = pd.read_sql_query(query, conn)"
   ]
  },
  {
   "cell_type": "code",
   "execution_count": 75,
   "id": "7561cfeb",
   "metadata": {},
   "outputs": [
    {
     "name": "stdout",
     "output_type": "stream",
     "text": [
      "           department gender  average_length_of_service\n",
      "0           Analytics      m                       4.80\n",
      "1             Finance      m                       3.50\n",
      "2          Operations      f                       7.50\n",
      "3          Operations      m                       4.25\n",
      "4         Procurement      f                       4.80\n",
      "5         Procurement      m                       5.92\n",
      "6                 R&D      m                       3.71\n",
      "7   Sales & Marketing      f                       5.00\n",
      "8   Sales & Marketing      m                       5.44\n",
      "9          Technology      f                       6.50\n",
      "10         Technology      m                       7.85\n"
     ]
    }
   ],
   "source": [
    "print(result)"
   ]
  },
  {
   "cell_type": "markdown",
   "id": "5f955755",
   "metadata": {},
   "source": [
    "# Task 9\n",
    "Find the percentage of female employees who have won awards, per department. Also show the number of female employees who won awards and total female employees.\n",
    "(Round average age up to two decimal places if needed)."
   ]
  },
  {
   "cell_type": "code",
   "execution_count": 98,
   "id": "4061937f",
   "metadata": {},
   "outputs": [],
   "source": [
    "query = \"select department, round(sum(case when awards_won=1 then 1 else 0 end)/count(*)*100,2) as percentage_of_female_employees_won_awards,sum(case when awards_won=1 then 1 else 0 end) as female_employees_won_awards,count(*) as total_female_employees from employee where gender='f' group by department\"\n",
    "result = pd.read_sql_query(query, conn)"
   ]
  },
  {
   "cell_type": "code",
   "execution_count": 99,
   "id": "37827164",
   "metadata": {},
   "outputs": [
    {
     "name": "stdout",
     "output_type": "stream",
     "text": [
      "          department  percentage_of_female_employees_won_awards  \\\n",
      "0          Analytics                                        0.0   \n",
      "1            Finance                                        0.0   \n",
      "2                 HR                                        0.0   \n",
      "3              Legal                                        0.0   \n",
      "4         Operations                                        0.0   \n",
      "5        Procurement                                        0.0   \n",
      "6                R&D                                        0.0   \n",
      "7  Sales & Marketing                                        0.0   \n",
      "8         Technology                                        0.0   \n",
      "\n",
      "   female_employees_won_awards  total_female_employees  \n",
      "0                            3                     131  \n",
      "1                            4                     180  \n",
      "2                            4                     307  \n",
      "3                            1                      25  \n",
      "4                           42                    1365  \n",
      "5                           31                     926  \n",
      "6                            0                      16  \n",
      "7                           19                     889  \n",
      "8                           17                     772  \n"
     ]
    }
   ],
   "source": [
    "print(result)"
   ]
  },
  {
   "cell_type": "markdown",
   "id": "a618ad0b",
   "metadata": {},
   "source": [
    "# Task 10\n",
    "Calculate the percentage of employees per department who have a length of service between 5 and 10 years.\n",
    "(Round average age up to two decimal places if needed)."
   ]
  },
  {
   "cell_type": "code",
   "execution_count": 102,
   "id": "1dbc88f2",
   "metadata": {},
   "outputs": [],
   "source": [
    "query = \"with cte as (select department,count(*) as a from employee group by department) select e.department,round(count(*)*100/(cte.a),2)as employee_percent_per_dpt from employee e left join cte on cte.department=e.department where length_of_service between 5 and 10 group by e.department\"\n",
    "\n",
    "result = pd.read_sql_query(query, conn)"
   ]
  },
  {
   "cell_type": "code",
   "execution_count": 103,
   "id": "5c1bc3be",
   "metadata": {},
   "outputs": [
    {
     "name": "stdout",
     "output_type": "stream",
     "text": [
      "          department  employee_percent_per_dpt\n",
      "0          Analytics                      47.0\n",
      "1            Finance                      47.0\n",
      "2                 HR                      45.0\n",
      "3              Legal                      37.0\n",
      "4         Operations                      48.0\n",
      "5        Procurement                      48.0\n",
      "6                R&D                      46.0\n",
      "7  Sales & Marketing                      48.0\n",
      "8         Technology                      45.0\n"
     ]
    }
   ],
   "source": [
    "print(result)"
   ]
  },
  {
   "cell_type": "markdown",
   "id": "3c74b5f8",
   "metadata": {},
   "source": [
    "# Task 11\n",
    "Find the top 3 regions with the highest number of employees who have met more than 80% of their KPIs and received at least one award, grouped by department and region."
   ]
  },
  {
   "cell_type": "code",
   "execution_count": 104,
   "id": "bba84004",
   "metadata": {},
   "outputs": [],
   "source": [
    "query = \"select department,region,count(*) as total_employees from employee where KPIs_met_more_than_80 and awards_won >=1 group by department,region order by total_employees desc limit 3\"\n",
    "\n",
    "result = pd.read_sql_query(query, conn)"
   ]
  },
  {
   "cell_type": "code",
   "execution_count": 105,
   "id": "b1438020",
   "metadata": {},
   "outputs": [
    {
     "name": "stdout",
     "output_type": "stream",
     "text": [
      "          department    region  total_employees\n",
      "0  Sales & Marketing  region_2               19\n",
      "1        Procurement  region_2               13\n",
      "2  Sales & Marketing  region_7               10\n"
     ]
    }
   ],
   "source": [
    "print(result)"
   ]
  },
  {
   "cell_type": "markdown",
   "id": "8afa21ba",
   "metadata": {},
   "source": [
    "# Task 12\n",
    "Calculate the average length of service for employees per education level and gender, considering only those employees who have completed more than 2 trainings and have an average training score greater than 75\n",
    "(Round average age up to two decimal places if needed)."
   ]
  },
  {
   "cell_type": "code",
   "execution_count": 106,
   "id": "863c3213",
   "metadata": {},
   "outputs": [],
   "source": [
    "query = \"select education,gender,round(avg(length_of_service),2) as average_service from employee where no_of_trainings > 2 and avg_training_score > 75 group by education,gender\"\n",
    "\n",
    "result = pd.read_sql_query(query, conn)"
   ]
  },
  {
   "cell_type": "code",
   "execution_count": 107,
   "id": "54cacf49",
   "metadata": {},
   "outputs": [
    {
     "name": "stdout",
     "output_type": "stream",
     "text": [
      "         education gender  average_service\n",
      "0        Bachelors      f             5.71\n",
      "1        Bachelors      m             4.53\n",
      "2  Below Secondary      m             1.67\n",
      "3  Masters & above      f             6.00\n",
      "4  Masters & above      m             6.70\n"
     ]
    }
   ],
   "source": [
    "print(result)"
   ]
  },
  {
   "cell_type": "markdown",
   "id": "6d587431",
   "metadata": {},
   "source": [
    "# Task 13\n",
    "For each department and recruitment channel, find the total number of employees who have met more than 80% of their KPIs, have a previous_year_rating of 5, and have a length of service greater than 10 years."
   ]
  },
  {
   "cell_type": "code",
   "execution_count": 108,
   "id": "f89ee189",
   "metadata": {},
   "outputs": [],
   "source": [
    "query = \"select department,recruitment_channel,count(*) as total_employees from employee where KPIs_met_more_than_80 =1 and previous_year_rating = 5 and length_of_service > 10 group by department,recruitment_channel\"\n",
    "\n",
    "result = pd.read_sql_query(query, conn)"
   ]
  },
  {
   "cell_type": "code",
   "execution_count": 109,
   "id": "9454757b",
   "metadata": {},
   "outputs": [
    {
     "name": "stdout",
     "output_type": "stream",
     "text": [
      "           department recruitment_channel  total_employees\n",
      "0           Analytics               other               17\n",
      "1           Analytics            sourcing                3\n",
      "2             Finance               other                3\n",
      "3             Finance            sourcing                4\n",
      "4                  HR               other                4\n",
      "5                  HR            referred                1\n",
      "6                  HR            sourcing                3\n",
      "7               Legal               other                2\n",
      "8               Legal            sourcing                2\n",
      "9          Operations               other               55\n",
      "10         Operations            sourcing               39\n",
      "11        Procurement               other               24\n",
      "12        Procurement            sourcing               14\n",
      "13                R&D               other                1\n",
      "14                R&D            sourcing                1\n",
      "15  Sales & Marketing               other               27\n",
      "16  Sales & Marketing            sourcing               19\n",
      "17         Technology               other               10\n",
      "18         Technology            sourcing               12\n"
     ]
    }
   ],
   "source": [
    "print(result)"
   ]
  },
  {
   "cell_type": "markdown",
   "id": "6ed2d335",
   "metadata": {},
   "source": [
    "# Task 14\n",
    "Calculate the percentage of employees in each department who have received awards, have a previous_year_rating of 4 or 5, and an average training score above 70, grouped by department and gender\n",
    "(Round average age up to two decimal places if needed)."
   ]
  },
  {
   "cell_type": "code",
   "execution_count": 110,
   "id": "f180c61e",
   "metadata": {},
   "outputs": [],
   "source": [
    "query = \"with table1 as (select department,gender,count(*) as total2 from employee group by department,gender), table2 as (select department,gender,count(*) as total1 from employee where previous_year_rating in (4,5) and avg_training_score > 70 and awards_won = 1 group by department,gender) select table1.department,table1.gender,ifnull(round(table2.total1 * 100 / (table1.total2),2),0) as percentage_of_employees from table1 left join table2 on table1.department=table2.department and table1.gender=table2.gender\"\n",
    "\n",
    "result = pd.read_sql_query(query, conn)"
   ]
  },
  {
   "cell_type": "code",
   "execution_count": 111,
   "id": "b33c84cd",
   "metadata": {},
   "outputs": [
    {
     "name": "stdout",
     "output_type": "stream",
     "text": [
      "           department gender  percentage_of_employees\n",
      "0           Analytics      f                      1.0\n",
      "1           Analytics      m                      1.0\n",
      "2             Finance      f                      1.0\n",
      "3             Finance      m                      0.0\n",
      "4                  HR      f                      0.0\n",
      "5                  HR      m                      0.0\n",
      "6               Legal      f                      0.0\n",
      "7               Legal      m                      0.0\n",
      "8          Operations      f                      0.0\n",
      "9          Operations      m                      0.0\n",
      "10        Procurement      f                      0.0\n",
      "11        Procurement      m                      0.0\n",
      "12                R&D      f                      0.0\n",
      "13                R&D      m                      1.0\n",
      "14  Sales & Marketing      f                      0.0\n",
      "15  Sales & Marketing      m                      0.0\n",
      "16         Technology      f                      1.0\n",
      "17         Technology      m                      1.0\n"
     ]
    }
   ],
   "source": [
    "print(result)"
   ]
  },
  {
   "cell_type": "markdown",
   "id": "c98f60d5",
   "metadata": {},
   "source": [
    "# Task 15\n",
    "List the top 5 recruitment channels with the highest average length of service for employees who have met more than 80% of their KPIs, have a previous_year_rating of 5, and an age between 25 and 45 years, grouped by department and recruitment channel.\n",
    "(Round average age up to two decimal places if needed)."
   ]
  },
  {
   "cell_type": "code",
   "execution_count": 112,
   "id": "c677b072",
   "metadata": {},
   "outputs": [],
   "source": [
    "query = \"select department,recruitment_channel,round(avg(length_of_service),2)as avg_length_service from employee where KPIs_met_more_than_80=1 and previous_year_rating=5 and age between 25 and 45 group by department,recruitment_channel order by avg_length_service desc limit 5\"\n",
    "\n",
    "result = pd.read_sql_query(query, conn)"
   ]
  },
  {
   "cell_type": "code",
   "execution_count": 114,
   "id": "895a6ccf",
   "metadata": {},
   "outputs": [
    {
     "name": "stdout",
     "output_type": "stream",
     "text": [
      "          department recruitment_channel  avg_length_service\n",
      "0         Operations            referred                6.20\n",
      "1         Operations               other                6.08\n",
      "2         Operations            sourcing                5.93\n",
      "3  Sales & Marketing               other                5.77\n",
      "4        Procurement            sourcing                5.65\n"
     ]
    }
   ],
   "source": [
    "print(result)"
   ]
  },
  {
   "cell_type": "code",
   "execution_count": null,
   "id": "d3a45902",
   "metadata": {},
   "outputs": [],
   "source": []
  }
 ],
 "metadata": {
  "kernelspec": {
   "display_name": "Python 3 (ipykernel)",
   "language": "python",
   "name": "python3"
  },
  "language_info": {
   "codemirror_mode": {
    "name": "ipython",
    "version": 3
   },
   "file_extension": ".py",
   "mimetype": "text/x-python",
   "name": "python",
   "nbconvert_exporter": "python",
   "pygments_lexer": "ipython3",
   "version": "3.9.13"
  }
 },
 "nbformat": 4,
 "nbformat_minor": 5
}
